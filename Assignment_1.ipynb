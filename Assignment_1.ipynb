{
 "cells": [
  {
   "cell_type": "markdown",
   "metadata": {},
   "source": [
    "<h4>Anumola Kishore Kumar</h4>\n",
    "<h5>758880</h5>\n",
    "<h5>Northern Illinios University</h5>"
   ]
  },
  {
   "cell_type": "code",
   "execution_count": 1,
   "metadata": {},
   "outputs": [
    {
     "name": "stdout",
     "output_type": "stream",
     "text": [
      "True\n",
      "Folder Already Present\n",
      "D:\\Python\\grocery-data\\2021-01-nw.csv\n",
      "D:\\Python\\grocery-data\\2021-02-nw.csv\n",
      "D:\\Python\\grocery-data\\2021-03-nw.csv\n",
      "D:\\Python\\grocery-data\\southeast_2021_01.csv\n",
      "D:\\Python\\grocery-data\\southeast_2021_02.csv\n",
      "D:\\Python\\grocery-data\\southeast_2021_03.csv\n",
      "D:\\Python\\grocery-data\\.ipynb_checkpoints\\2021-01-nw-checkpoint.csv\n",
      "D:\\Python\\grocery-data\\alaska\\2020\\2020-01.csv\n",
      "D:\\Python\\grocery-data\\alaska\\2020\\2020-02.csv\n",
      "D:\\Python\\grocery-data\\alaska\\2020\\2020-03.csv\n",
      "D:\\Python\\grocery-data\\alaska\\2021\\2021-01.csv\n",
      "D:\\Python\\grocery-data\\alaska\\2021\\2021-02.csv\n",
      "D:\\Python\\grocery-data\\alaska\\2021\\2021-03.csv\n",
      "D:\\Python\\grocery-data\\great-lakes-csv\\2021_01.csv\n",
      "D:\\Python\\grocery-data\\great-lakes-csv\\2021_02.csv\n",
      "D:\\Python\\grocery-data\\great-lakes-csv\\2021_03.csv\n",
      "D:\\Python\\grocery-data\\ne\\2021-01.csv\n",
      "D:\\Python\\grocery-data\\ne\\2021-02.csv\n",
      "D:\\Python\\grocery-data\\ne\\2021-03.csv\n"
     ]
    }
   ],
   "source": [
    "import requests, zipfile, io ,os,pathlib,shutil,pandas \n",
    "path = \"D:\\Python\"\n",
    "path1= \"D:\\Python\\grocery-data\"\n",
    "file = pathlib.Path(\"D:\\Python\\grocery-data\")\n",
    "isExist = os.path.exists(path)\n",
    "print(isExist)\n",
    "r = requests.get('http://faculty.cs.niu.edu/~dakoop/cs503-2021sp/a7/archive.zip')\n",
    "with open(\"archive.zip\", \"wb\") as out_file:\n",
    "    out_file.write(r.content)\n",
    "out_file = zipfile.ZipFile(io.BytesIO(r.content))\n",
    "if file.exists():\n",
    "    print(\"Folder Already Present\")\n",
    "else:\n",
    "    out_file.extractall(path)\n",
    "    print(\"Extracted Successfully\")\n",
    "for root, dirs, files in os.walk(path1):\n",
    "    for file in files:\n",
    "        if file.endswith(\".csv\"):\n",
    "             print(os.path.join(root, file))"
   ]
  },
  {
   "cell_type": "code",
   "execution_count": null,
   "metadata": {},
   "outputs": [],
   "source": []
  }
 ],
 "metadata": {
  "kernelspec": {
   "display_name": "Python 3 (ipykernel)",
   "language": "python",
   "name": "python3"
  },
  "language_info": {
   "codemirror_mode": {
    "name": "ipython",
    "version": 3
   },
   "file_extension": ".py",
   "mimetype": "text/x-python",
   "name": "python",
   "nbconvert_exporter": "python",
   "pygments_lexer": "ipython3",
   "version": "3.9.7"
  }
 },
 "nbformat": 4,
 "nbformat_minor": 4
}
